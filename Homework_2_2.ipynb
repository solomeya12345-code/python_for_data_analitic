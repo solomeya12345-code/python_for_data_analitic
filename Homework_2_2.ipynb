{
  "cells": [
    {
      "cell_type": "markdown",
      "metadata": {
        "id": "view-in-github",
        "colab_type": "text"
      },
      "source": [
        "<a href=\"https://colab.research.google.com/github/solomeya12345-code/python_for_data_analitic/blob/main/Homework_2_2.ipynb\" target=\"_parent\"><img src=\"https://colab.research.google.com/assets/colab-badge.svg\" alt=\"Open In Colab\"/></a>"
      ]
    },
    {
      "cell_type": "markdown",
      "metadata": {
        "id": "981d9265"
      },
      "source": [
        "# Домашнє завдання до теми \"Functions\"\n",
        "В цьому домашньому завданні в деяких задачах є частини коду, та в кожному завданні описано, що з ними треба зробити, часто - просто виконати після того, як ви напишете частину, якої поки не вистачає. Пишіть, будь ласка, код, який реалізує рішення кожного завдання, безпосереньо під формулюванням завдання, створюючи нові клітинки. Можете створювати скільки завгодно клітинок для виконання одного завдання."
      ],
      "id": "981d9265"
    },
    {
      "cell_type": "markdown",
      "metadata": {
        "id": "eb55a967"
      },
      "source": [
        "1. Напишіть функцію `is_even`, яка для заданого числа визначає, чи воно є парним (тобто ділиться на 2 без остачі, наприклад 4, 10, 102). Функція має вертати результат типу bool.\n",
        "Продемонструйте результати робити функції запустивши код нижче."
      ],
      "id": "eb55a967"
    },
    {
      "cell_type": "code",
      "execution_count": 61,
      "metadata": {
        "ExecuteTime": {
          "end_time": "2023-06-13T09:48:47.072569Z",
          "start_time": "2023-06-13T09:48:47.068977Z"
        },
        "id": "66e68f7a"
      },
      "outputs": [],
      "source": [
        "def is_even(digit: int) -> bool:\n",
        "  return digit % 2 == 0"
      ],
      "id": "66e68f7a"
    },
    {
      "cell_type": "code",
      "source": [
        "def is_even(d: int) -> bool:\n",
        "    if d % 2 == 0:\n",
        "        return True\n",
        "    else:\n",
        "        return False"
      ],
      "metadata": {
        "id": "G7SJC7KnREQK"
      },
      "id": "G7SJC7KnREQK",
      "execution_count": 66,
      "outputs": []
    },
    {
      "cell_type": "code",
      "execution_count": 65,
      "metadata": {
        "ExecuteTime": {
          "end_time": "2023-06-13T09:51:03.574283Z",
          "start_time": "2023-06-13T09:51:03.568715Z"
        },
        "id": "c60e04d1",
        "colab": {
          "base_uri": "https://localhost:8080/"
        },
        "outputId": "59cac485-d97c-40ef-96fc-f5b07a29ea26"
      },
      "outputs": [
        {
          "output_type": "execute_result",
          "data": {
            "text/plain": [
              "[False, True, False, False, True]"
            ]
          },
          "metadata": {},
          "execution_count": 65
        }
      ],
      "source": [
        "[is_even(digit) for digit in [101, 2002, 3043, 5015, 8222]]"
      ],
      "id": "c60e04d1"
    },
    {
      "cell_type": "markdown",
      "source": [
        "2. Створіть функцію `sum_numbers`, яка приймає довільну кількість числових аргументів і повертає їх суму. Функція повинна працювати з будь-якою кількістю числових аргументів, включаючи випадки, коли аргументів немає.\n",
        "\n",
        "  **Приклади виклику функції:**\n",
        "\n",
        "  1. `sum_numbers(1, 2, 3, 4)` повинно повернути `10`.\n",
        "  2. `sum_numbers(10, 20)` повинно повернути `30`.\n",
        "  3. `sum_numbers()` повинно повернути `0`.\n",
        "\n",
        "  **Вимоги до реалізації:**\n",
        "\n",
        "  - Функція має використовувати `*args` для прийому довільної кількості аргументів.\n",
        "  - Функція має правильно обробляти випадок, коли їй не передано жодного аргумента.\n",
        "\n",
        "  Продемонструйте результати робoти функції, запустивши її на наведених наборах нижче."
      ],
      "metadata": {
        "id": "xPlxqkpyFkti"
      },
      "id": "xPlxqkpyFkti"
    },
    {
      "cell_type": "code",
      "source": [
        "def sum_numbers(*args):\n",
        "  return sum(args)"
      ],
      "metadata": {
        "id": "WjjXB8MqK5Kt"
      },
      "id": "WjjXB8MqK5Kt",
      "execution_count": 6,
      "outputs": []
    },
    {
      "cell_type": "code",
      "source": [
        "number_sets = [\n",
        "    (1, 2, 3, 4),\n",
        "    (10, 20),\n",
        "    (11, 12, 13),\n",
        "    (),\n",
        "    (-19, -164, 183)\n",
        "]"
      ],
      "metadata": {
        "id": "TyQnD-d1GNOM"
      },
      "execution_count": 7,
      "outputs": [],
      "id": "TyQnD-d1GNOM"
    },
    {
      "cell_type": "code",
      "source": [
        "[sum_numbers(*_sets) for _sets in number_sets]"
      ],
      "metadata": {
        "id": "S_z07TQVLCQT",
        "colab": {
          "base_uri": "https://localhost:8080/"
        },
        "outputId": "d4650d3d-e1cb-4840-a812-f33d2798960a"
      },
      "id": "S_z07TQVLCQT",
      "execution_count": 67,
      "outputs": [
        {
          "output_type": "execute_result",
          "data": {
            "text/plain": [
              "[10, 30, 36, 0, 0]"
            ]
          },
          "metadata": {},
          "execution_count": 67
        }
      ]
    },
    {
      "cell_type": "markdown",
      "metadata": {
        "id": "d1769a5b"
      },
      "source": [
        "3. **Завдання на рефакторинг: Обчислення Індексу Маси Тіла (BMI).** Рефакторинг - стандартна практика при роботі зі своїм, чи чужим кодом в компанії. Тут ми дізнаємось, що це і попрактикуємось це робити.\n",
        "\n",
        "  У вашому розпорядженні є фрагмент коду, який обчислює [індекс маси тіла (BMI)](https://uk.wikipedia.org/wiki/%D0%86%D0%BD%D0%B4%D0%B5%D0%BA%D1%81_%D0%BC%D0%B0%D1%81%D0%B8_%D1%82%D1%96%D0%BB%D0%B0#:~:text=%D0%86%CC%81%D0%BD%D0%B4%D0%B5%D0%BA%D1%81%20%D0%BC%D0%B0%CC%81%D1%81%D0%B8%20%D1%82%D1%96%CC%81%D0%BB%D0%B0%20(%D0%86%D0%9C%D0%A2%2C%20%D0%B0%D0%BD%D0%B3%D0%BB,%D0%BD%D0%BE%D1%80%D0%BC%D0%B0%D0%BB%D1%8C%D0%BD%D0%BE%D1%8E%2C%20%D0%BD%D0%B0%D0%B4%D0%BC%D1%96%D1%80%D0%BD%D0%BE%D1%8E%20(%D0%BE%D0%B6%D0%B8%D1%80%D1%96%D0%BD%D0%BD%D1%8F%D0%BC) для п'яти осіб. Ваше завдання - рефакторити цей код, тобто оптимізувати його вигляд, виокремивши повторювані частини в окрему функцію. Мета рефакторингу - **зберегти функціонал існуючого коду**, але зробити його більш читабельним, зручним для розуміння та модифікації.   пʼяти осіб. Для обчислення індексу маси тіла треба розділити вагу на зріст, піднесений до квадрату.\n",
        "\n",
        "  Виділіть у функцію код, що дублюється (робить одні і ті ж самі операції, але з різними числами) так, аби результат збергcя **той самий**, але коду стало менше.\n",
        "\n",
        "  В кінці - запустіть свій відрефакторений фрагмент коду. Якщо Ваш код виводить не те ж саме, що наведений фрагмент до рефакторингу, завдання вважається не виконаним.\n",
        "\n",
        "  **Увага**: Це завдання - творче. Можна обгорнути даний код у функцію по-різному. Єдиної правильної відповіді нема. Буде перевірятись розуміння підходу \"винесення частин, що повторюються, у функцію\"."
      ],
      "id": "d1769a5b"
    },
    {
      "cell_type": "code",
      "execution_count": 9,
      "metadata": {
        "ExecuteTime": {
          "end_time": "2023-02-26T21:36:29.139957Z",
          "start_time": "2023-02-26T21:36:29.117743Z"
        },
        "id": "e0750a47",
        "colab": {
          "base_uri": "https://localhost:8080/"
        },
        "outputId": "348f6b06-abb2-4379-a148-ef93c0fefb9c"
      },
      "outputs": [
        {
          "output_type": "stream",
          "name": "stdout",
          "text": [
            "bmi person1 = 30\n",
            "bmi person2 = 29\n",
            "bmi person3 = 29\n",
            "bmi person4 = 24\n",
            "bmi person5 = 28\n"
          ]
        }
      ],
      "source": [
        "person1 = [80, 1.62]\n",
        "person2 = [69, 1.53]\n",
        "person3 = [80, 1.66]\n",
        "person4 = [80, 1.79]\n",
        "person5 = [72, 1.60]\n",
        "\n",
        "bmi_person1 = int(person1[0] / person1[1]**2)\n",
        "print(\"bmi {} = {}\".format('person1', bmi_person1))\n",
        "\n",
        "bmi_person2 = int(person2[0] / person2[1]**2)\n",
        "print(\"bmi {} = {}\".format('person2', bmi_person2))\n",
        "\n",
        "bmi_person3 = int(person3[0] / person3[1]**2)\n",
        "print(\"bmi {} = {}\".format('person3', bmi_person3))\n",
        "\n",
        "bmi_person4 = int(person4[0] / person4[1]**2)\n",
        "print(\"bmi {} = {}\".format('person4', bmi_person4))\n",
        "\n",
        "bmi_person5 = int(person5[0] / person5[1]**2)\n",
        "print(\"bmi {} = {}\".format('person5', bmi_person5))"
      ],
      "id": "e0750a47"
    },
    {
      "cell_type": "markdown",
      "source": [
        "Мій варіант реалізації:"
      ],
      "metadata": {
        "id": "f3Diqh-URxpj"
      },
      "id": "f3Diqh-URxpj"
    },
    {
      "cell_type": "code",
      "source": [
        "person1 = [80, 1.62]\n",
        "person2 = [69, 1.53]\n",
        "person3 = [80, 1.66]\n",
        "person4 = [80, 1.79]\n",
        "person5 = [72, 1.60]\n",
        "\n",
        "def bmi_person(*args):\n",
        "  return int(args[0] / args[1]**2)\n",
        "\n",
        "persons = [person1, person2, person3, person4, person5]\n",
        "n = 1\n",
        "for args in persons:\n",
        "  print(\"bmi person{} = {}\".format(n, bmi_person(*args)))\n",
        "  n += 1"
      ],
      "metadata": {
        "id": "MR3hny6hLFmu",
        "colab": {
          "base_uri": "https://localhost:8080/"
        },
        "outputId": "ae8ce171-a409-4f73-9995-8d39683fd3b2"
      },
      "id": "MR3hny6hLFmu",
      "execution_count": 60,
      "outputs": [
        {
          "output_type": "stream",
          "name": "stdout",
          "text": [
            "bmi person1 = 30\n",
            "bmi person2 = 29\n",
            "bmi person3 = 29\n",
            "bmi person4 = 24\n",
            "bmi person5 = 28\n"
          ]
        }
      ]
    },
    {
      "cell_type": "markdown",
      "source": [
        "Варіант реалізації 1:"
      ],
      "metadata": {
        "id": "6bq4MfldSLNW"
      },
      "id": "6bq4MfldSLNW"
    },
    {
      "cell_type": "code",
      "source": [
        "def bmi_calc(person_num, weight_kg, height_m):\n",
        "    \"\"\"Calculate BMI from weight in kg and height in meters\"\"\"\n",
        "    bmi = int(weight_kg / height_m**2)\n",
        "    name = 'person' + str(person_num)\n",
        "    print(\"bmi {} = {}\".format(name, bmi))\n",
        "\n",
        "# person data = [id, weight_kg, height_m]\n",
        "people = [\n",
        "   [1, 80, 1.62], # person1\n",
        "   [2, 69, 1.53], # person2\n",
        "   [3, 80, 1.66], # person3\n",
        "   [4, 80, 1.79], # person4\n",
        "   [5, 72, 1.60]  # person5\n",
        "]\n",
        "\n",
        "\n",
        "for person in people:\n",
        "    person_num, weight_kg, height_m = person[0], person[1], person[2]\n",
        "    bmi_calc(person_num, weight_kg, height_m)"
      ],
      "metadata": {
        "colab": {
          "base_uri": "https://localhost:8080/"
        },
        "id": "lZEzVymFSQgl",
        "outputId": "561c4e0b-7959-4843-a142-bb5154275149"
      },
      "id": "lZEzVymFSQgl",
      "execution_count": 68,
      "outputs": [
        {
          "output_type": "stream",
          "name": "stdout",
          "text": [
            "bmi person1 = 30\n",
            "bmi person2 = 29\n",
            "bmi person3 = 29\n",
            "bmi person4 = 24\n",
            "bmi person5 = 28\n"
          ]
        }
      ]
    },
    {
      "cell_type": "code",
      "source": [
        "people = {\n",
        "    'person1': (80, 1.62),\n",
        "    'person2': (69, 1.53),\n",
        "    'person3': (80, 1.66),\n",
        "    'person4': (80, 1.79),\n",
        "    'person5': (72, 1.60)\n",
        "}"
      ],
      "metadata": {
        "id": "k2izBBk1SS_r"
      },
      "id": "k2izBBk1SS_r",
      "execution_count": 69,
      "outputs": []
    },
    {
      "cell_type": "code",
      "source": [
        "def bmi_person(person_dict):\n",
        "    result = {f'bmi {person}': int(weight / height**2) for person, (weight, height) in person_dict.items()}\n",
        "    return result\n",
        "\n",
        "# Створення словника людей\n",
        "people = {\n",
        "    'person1': (80, 1.62),\n",
        "    'person2': (69, 1.53),\n",
        "    'person3': (80, 1.66),\n",
        "    'person4': (80, 1.79),\n",
        "    'person5': (72, 1.60)\n",
        "}\n",
        "\n",
        "# Виклик функції для обчислення BMI\n",
        "person_dict_results = bmi_person(people)\n",
        "\n",
        "# Виведення результатів\n",
        "for key, value in person_dict_results.items():\n",
        "    print(key, '=', value)"
      ],
      "metadata": {
        "colab": {
          "base_uri": "https://localhost:8080/"
        },
        "id": "ElY1hvlwSVTw",
        "outputId": "4170dffb-589c-48db-f0c2-6570ef0d3db6"
      },
      "id": "ElY1hvlwSVTw",
      "execution_count": 70,
      "outputs": [
        {
          "output_type": "stream",
          "name": "stdout",
          "text": [
            "bmi person1 = 30\n",
            "bmi person2 = 29\n",
            "bmi person3 = 29\n",
            "bmi person4 = 24\n",
            "bmi person5 = 28\n"
          ]
        }
      ]
    },
    {
      "cell_type": "code",
      "source": [
        "bmi_results = bmi_person(people)\n",
        "for result in bmi_results:\n",
        "    print(result)"
      ],
      "metadata": {
        "colab": {
          "base_uri": "https://localhost:8080/"
        },
        "id": "BI6nXe1eSXJd",
        "outputId": "5a8cc6eb-dc31-4f88-fe8c-838889150807"
      },
      "id": "BI6nXe1eSXJd",
      "execution_count": 71,
      "outputs": [
        {
          "output_type": "stream",
          "name": "stdout",
          "text": [
            "bmi person1\n",
            "bmi person2\n",
            "bmi person3\n",
            "bmi person4\n",
            "bmi person5\n"
          ]
        }
      ]
    },
    {
      "cell_type": "code",
      "source": [
        "for key, value in person_dict_results.items():\n",
        "    print(key, '=', value)"
      ],
      "metadata": {
        "colab": {
          "base_uri": "https://localhost:8080/"
        },
        "id": "RfUC5IqOSZdW",
        "outputId": "b30298af-5d79-41cf-b656-946d001fbdf3"
      },
      "id": "RfUC5IqOSZdW",
      "execution_count": 72,
      "outputs": [
        {
          "output_type": "stream",
          "name": "stdout",
          "text": [
            "bmi person1 = 30\n",
            "bmi person2 = 29\n",
            "bmi person3 = 29\n",
            "bmi person4 = 24\n",
            "bmi person5 = 28\n"
          ]
        }
      ]
    },
    {
      "cell_type": "markdown",
      "source": [
        "Варіант реалізації 2:"
      ],
      "metadata": {
        "id": "lqy_LfmESesV"
      },
      "id": "lqy_LfmESesV"
    },
    {
      "cell_type": "code",
      "source": [
        "def bmi_calc(person_num, weight_kg, height_m):\n",
        "    \"\"\"Calculate BMI from weight in kg and height in meters\"\"\"\n",
        "    bmi = int(weight_kg / height_m**2)\n",
        "    name = 'person' + str(person_num)\n",
        "    print(\"bmi {} = {}\".format(name, bmi))\n",
        "\n",
        "# person data = [id, weight_kg, height_m]\n",
        "people = [\n",
        "   [80, 1.62], # person1\n",
        "   [69, 1.53], # person2\n",
        "   [80, 1.66], # person3\n",
        "   [80, 1.79], # person4\n",
        "   [72, 1.60]  # person5\n",
        "]\n",
        "\n",
        "\n",
        "for i, person in enumerate(people):\n",
        "    person_num, weight_kg, height_m = i+1, person[0], person[1]\n",
        "    bmi_calc(person_num, weight_kg, height_m)"
      ],
      "metadata": {
        "colab": {
          "base_uri": "https://localhost:8080/"
        },
        "id": "3mE3XqUzSbR_",
        "outputId": "147624fe-ace0-4912-c35a-538053bd5ac3"
      },
      "id": "3mE3XqUzSbR_",
      "execution_count": 73,
      "outputs": [
        {
          "output_type": "stream",
          "name": "stdout",
          "text": [
            "bmi person1 = 30\n",
            "bmi person2 = 29\n",
            "bmi person3 = 29\n",
            "bmi person4 = 24\n",
            "bmi person5 = 28\n"
          ]
        }
      ]
    },
    {
      "cell_type": "markdown",
      "source": [
        "Варіант реалізації 3:"
      ],
      "metadata": {
        "id": "HP4RyIL6SjwB"
      },
      "id": "HP4RyIL6SjwB"
    },
    {
      "cell_type": "code",
      "source": [
        "people = [\n",
        "    { 'name': \"person1\", 'weight': 80, 'height': 1.62 },\n",
        "    { 'name': \"person2\", 'weight': 69, 'height': 1.53 },\n",
        "    { 'name': \"person3\", 'weight': 80, 'height': 1.66 },\n",
        "    { 'name': \"person4\", 'weight': 80, 'height': 1.79 },\n",
        "    { 'name': \"person5\", 'weight': 72, 'height': 1.60 }\n",
        "]\n",
        "\n",
        "def calculate_bmi(person):\n",
        "    bmi = int(person['weight'] / person['height'] ** 2)\n",
        "    print (\"bmi {} = {}\".format(person['name'], bmi))\n",
        "\n",
        "for person in people:\n",
        "    calculate_bmi(person)"
      ],
      "metadata": {
        "colab": {
          "base_uri": "https://localhost:8080/"
        },
        "id": "Bp8g94dMSg0O",
        "outputId": "1c4106bb-120d-4566-82ea-9afa5561b18e"
      },
      "id": "Bp8g94dMSg0O",
      "execution_count": 74,
      "outputs": [
        {
          "output_type": "stream",
          "name": "stdout",
          "text": [
            "bmi person1 = 30\n",
            "bmi person2 = 29\n",
            "bmi person3 = 29\n",
            "bmi person4 = 24\n",
            "bmi person5 = 28\n"
          ]
        }
      ]
    },
    {
      "cell_type": "code",
      "source": [
        "people = {\n",
        "    'person1': [80, 1.62],\n",
        "    'person2': [69, 1.53],\n",
        "    'person3': [80, 1.66],\n",
        "    'person4': [80, 1.79],\n",
        "    'person5': [72, 1.60]\n",
        "}\n",
        "\n",
        "def bmi(weight, height):\n",
        "    return int(weight / height**2)\n",
        "\n",
        "# Цикл для перебору кожної особи і виведення результатів\n",
        "for person, data in people.items():\n",
        "    weight, height = data\n",
        "    print(\"bmi {} = {}\".format(person, bmi(weight, height)))"
      ],
      "metadata": {
        "colab": {
          "base_uri": "https://localhost:8080/"
        },
        "id": "Sg86csv-Sl3y",
        "outputId": "2b9d9326-33d5-4c6e-cb76-b52a8fc57c5f"
      },
      "id": "Sg86csv-Sl3y",
      "execution_count": 75,
      "outputs": [
        {
          "output_type": "stream",
          "name": "stdout",
          "text": [
            "bmi person1 = 30\n",
            "bmi person2 = 29\n",
            "bmi person3 = 29\n",
            "bmi person4 = 24\n",
            "bmi person5 = 28\n"
          ]
        }
      ]
    },
    {
      "cell_type": "code",
      "source": [],
      "metadata": {
        "id": "uXp_8iDcSn4b"
      },
      "id": "uXp_8iDcSn4b",
      "execution_count": null,
      "outputs": []
    }
  ],
  "metadata": {
    "kernelspec": {
      "display_name": "Python 3 (ipykernel)",
      "language": "python",
      "name": "python3"
    },
    "language_info": {
      "codemirror_mode": {
        "name": "ipython",
        "version": 3
      },
      "file_extension": ".py",
      "mimetype": "text/x-python",
      "name": "python",
      "nbconvert_exporter": "python",
      "pygments_lexer": "ipython3",
      "version": "3.10.4"
    },
    "toc": {
      "base_numbering": 1,
      "nav_menu": {},
      "number_sections": true,
      "sideBar": true,
      "skip_h1_title": false,
      "title_cell": "Table of Contents",
      "title_sidebar": "Contents",
      "toc_cell": false,
      "toc_position": {},
      "toc_section_display": true,
      "toc_window_display": false
    },
    "colab": {
      "provenance": [],
      "include_colab_link": true
    }
  },
  "nbformat": 4,
  "nbformat_minor": 5
}