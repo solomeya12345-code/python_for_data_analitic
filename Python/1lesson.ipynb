{
 "cells": [
  {
   "cell_type": "markdown",
   "id": "8bee732f",
   "metadata": {},
   "source": [
    "## Вступ\n",
    "Мене **звати** Іван!   \n",
    "\n",
    "Я пишу код на *Python*!\n",
    "\n",
    "Ця програма робить щось корисне."
   ]
  },
  {
   "cell_type": "code",
   "execution_count": 14,
   "id": "474a93fc",
   "metadata": {},
   "outputs": [
    {
     "name": "stdout",
     "output_type": "stream",
     "text": [
      "Hello world!\n"
     ]
    },
    {
     "data": {
      "text/plain": [
       "140"
      ]
     },
     "execution_count": 14,
     "metadata": {},
     "output_type": "execute_result"
    }
   ],
   "source": [
    "print('Hello world!')\n",
    "\n",
    "120+20"
   ]
  },
  {
   "cell_type": "markdown",
   "id": "1d5f1f8e",
   "metadata": {},
   "source": [
    "## Розділ 1\n",
    "просто текст\n",
    "\n",
    "### Підрозділ\n",
    "\n",
    "## Розділ 2"
   ]
  },
  {
   "cell_type": "code",
   "execution_count": 2,
   "id": "575d4c78",
   "metadata": {},
   "outputs": [
    {
     "name": "stdout",
     "output_type": "stream",
     "text": [
      "0\n",
      "1\n",
      "2\n",
      "3\n",
      "4\n",
      "5\n",
      "6\n",
      "7\n",
      "8\n",
      "9\n"
     ]
    }
   ],
   "source": [
    "import time\n",
    "\n",
    "for i in range(10):\n",
    "    print(i)\n",
    "    time.sleep(30)"
   ]
  },
  {
   "cell_type": "code",
   "execution_count": null,
   "id": "69aca15e",
   "metadata": {},
   "outputs": [],
   "source": [
    "my_list = [1, 2, 3, 4]\n"
   ]
  },
  {
   "cell_type": "code",
   "execution_count": null,
   "id": "0bdd231c",
   "metadata": {},
   "outputs": [
    {
     "data": {
      "text/plain": [
       "[1, 2, 3, 4]"
      ]
     },
     "execution_count": 22,
     "metadata": {},
     "output_type": "execute_result"
    }
   ],
   "source": [
    "my_list"
   ]
  },
  {
   "cell_type": "markdown",
   "id": "61d4dbfc",
   "metadata": {},
   "source": [
    "В мене є список\n",
    "* Один\n",
    "    - підсписок\n",
    "        - це\n",
    "  - інший підписок\n",
    "        - то\n",
    "        - і ще то\n",
    "* два\n",
    "  - підсписок"
   ]
  },
  {
   "cell_type": "code",
   "execution_count": null,
   "id": "b465752b",
   "metadata": {},
   "outputs": [],
   "source": [
    "[x**2 for x in range(-10, 11)]"
   ]
  },
  {
   "cell_type": "code",
   "execution_count": null,
   "id": "9143ece1",
   "metadata": {},
   "outputs": [],
   "source": [
    "s = 'Hello world!'"
   ]
  },
  {
   "cell_type": "code",
   "execution_count": null,
   "id": "668d0af4",
   "metadata": {},
   "outputs": [],
   "source": [
    "print(s)"
   ]
  },
  {
   "cell_type": "code",
   "execution_count": null,
   "id": "41ef85fd",
   "metadata": {},
   "outputs": [],
   "source": [
    "1+1\n",
    "print(2+22)\n",
    "3+3\n",
    "s"
   ]
  },
  {
   "cell_type": "code",
   "execution_count": null,
   "id": "546adf5c",
   "metadata": {},
   "outputs": [],
   "source": [
    "a = 'Hello everyone!'"
   ]
  },
  {
   "cell_type": "code",
   "execution_count": null,
   "id": "0e65a55a",
   "metadata": {},
   "outputs": [],
   "source": [
    "a"
   ]
  },
  {
   "cell_type": "code",
   "execution_count": null,
   "id": "5dfa7edd",
   "metadata": {},
   "outputs": [],
   "source": [
    "import matplotlib.pyplot as plt\n",
    "import numpy as np"
   ]
  },
  {
   "cell_type": "code",
   "execution_count": null,
   "id": "b74a8c86",
   "metadata": {},
   "outputs": [],
   "source": [
    "plt.plot(np.sin(range(20)));"
   ]
  },
  {
   "cell_type": "markdown",
   "id": "f17eb926",
   "metadata": {},
   "source": [
    "## Розділ 3"
   ]
  },
  {
   "cell_type": "code",
   "execution_count": 1,
   "id": "0998afab",
   "metadata": {},
   "outputs": [
    {
     "data": {
      "text/plain": [
       "3"
      ]
     },
     "execution_count": 1,
     "metadata": {},
     "output_type": "execute_result"
    }
   ],
   "source": [
    "a = 1\n",
    "b = 2\n",
    "a + b"
   ]
  },
  {
   "cell_type": "code",
   "execution_count": null,
   "id": "57176304",
   "metadata": {},
   "outputs": [],
   "source": [
    "a/b"
   ]
  },
  {
   "cell_type": "code",
   "execution_count": 4,
   "id": "844628af",
   "metadata": {},
   "outputs": [
    {
     "data": {
      "text/plain": [
       "[0,\n",
       " 1,\n",
       " 4,\n",
       " 9,\n",
       " 16,\n",
       " 25,\n",
       " 36,\n",
       " 49,\n",
       " 64,\n",
       " 81,\n",
       " 100,\n",
       " 121,\n",
       " 144,\n",
       " 169,\n",
       " 196,\n",
       " 225,\n",
       " 256,\n",
       " 289,\n",
       " 324,\n",
       " 361,\n",
       " 400,\n",
       " 441,\n",
       " 484,\n",
       " 529,\n",
       " 576,\n",
       " 625,\n",
       " 676,\n",
       " 729,\n",
       " 784,\n",
       " 841,\n",
       " 900,\n",
       " 961,\n",
       " 1024,\n",
       " 1089,\n",
       " 1156,\n",
       " 1225,\n",
       " 1296,\n",
       " 1369,\n",
       " 1444,\n",
       " 1521,\n",
       " 1600,\n",
       " 1681,\n",
       " 1764,\n",
       " 1849,\n",
       " 1936,\n",
       " 2025,\n",
       " 2116,\n",
       " 2209,\n",
       " 2304,\n",
       " 2401,\n",
       " 2500,\n",
       " 2601,\n",
       " 2704,\n",
       " 2809,\n",
       " 2916,\n",
       " 3025,\n",
       " 3136,\n",
       " 3249,\n",
       " 3364,\n",
       " 3481]"
      ]
     },
     "execution_count": 4,
     "metadata": {},
     "output_type": "execute_result"
    }
   ],
   "source": [
    "def func(a, b):\n",
    "    a = a + 1\n",
    "    b = int(a * 15)\n",
    "    result = []\n",
    "    for i in range(b):\n",
    "        result.append(i**2)\n",
    "    return result\n",
    "func(3, 10)"
   ]
  }
 ],
 "metadata": {
  "kernelspec": {
   "display_name": "base",
   "language": "python",
   "name": "python3"
  },
  "language_info": {
   "codemirror_mode": {
    "name": "ipython",
    "version": 3
   },
   "file_extension": ".py",
   "mimetype": "text/x-python",
   "name": "python",
   "nbconvert_exporter": "python",
   "pygments_lexer": "ipython3",
   "version": "3.13.5"
  }
 },
 "nbformat": 4,
 "nbformat_minor": 5
}
