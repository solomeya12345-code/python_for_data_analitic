{
  "cells": [
    {
      "cell_type": "markdown",
      "metadata": {
        "id": "view-in-github",
        "colab_type": "text"
      },
      "source": [
        "<a href=\"https://colab.research.google.com/github/solomeya12345-code/python_for_data_analitic/blob/main/Additional_hw_2_Data_structures%2C_loops_and_functions.ipynb\" target=\"_parent\"><img src=\"https://colab.research.google.com/assets/colab-badge.svg\" alt=\"Open In Colab\"/></a>"
      ]
    },
    {
      "cell_type": "markdown",
      "id": "69f335e6",
      "metadata": {
        "id": "69f335e6"
      },
      "source": [
        "1.Створіть множину (set) з наведеного спиcку та виведіть результат на екран. Чим відрізняється множина від списку?"
      ]
    },
    {
      "cell_type": "code",
      "execution_count": null,
      "id": "aaeecf7e",
      "metadata": {
        "ExecuteTime": {
          "end_time": "2023-02-16T17:21:34.172161Z",
          "start_time": "2023-02-16T17:21:34.150021Z"
        },
        "id": "aaeecf7e"
      },
      "outputs": [],
      "source": [
        "input_list =  ['boat', 'bus', 'plane', 'train', 'boat', 'autobus', 'bus']"
      ]
    },
    {
      "cell_type": "code",
      "execution_count": null,
      "id": "61d218e2",
      "metadata": {
        "id": "61d218e2",
        "colab": {
          "base_uri": "https://localhost:8080/"
        },
        "outputId": "3ee6ce5d-3212-4f57-c2dd-435104ec82db"
      },
      "outputs": [
        {
          "output_type": "execute_result",
          "data": {
            "text/plain": [
              "{'autobus', 'boat', 'bus', 'plane', 'train'}"
            ]
          },
          "metadata": {},
          "execution_count": 2
        }
      ],
      "source": [
        "set(input_list)"
      ]
    },
    {
      "cell_type": "markdown",
      "id": "d2dd9987",
      "metadata": {
        "id": "d2dd9987"
      },
      "source": [
        "Множина містить невпорядковані унікальні елементи. Список - це спорядкований набір будь-яких елементів."
      ]
    },
    {
      "cell_type": "markdown",
      "id": "5c7babdc",
      "metadata": {
        "id": "5c7babdc"
      },
      "source": [
        "2.Виведіть окремо ключі та окремо значення двома окремими списками наступного словника:"
      ]
    },
    {
      "cell_type": "code",
      "execution_count": null,
      "id": "a00df81d",
      "metadata": {
        "ExecuteTime": {
          "end_time": "2023-02-16T17:32:23.162298Z",
          "start_time": "2023-02-16T17:32:23.152250Z"
        },
        "id": "a00df81d"
      },
      "outputs": [],
      "source": [
        "light_signals = {'green': 'go', 'yellow': 'get ready', 'red': 'stop'}"
      ]
    },
    {
      "cell_type": "code",
      "execution_count": 10,
      "id": "dc2cc322",
      "metadata": {
        "id": "dc2cc322",
        "colab": {
          "base_uri": "https://localhost:8080/"
        },
        "outputId": "b91d66fe-6537-4fe1-e1b8-ce539aa6b878"
      },
      "outputs": [
        {
          "output_type": "stream",
          "name": "stdout",
          "text": [
            "['green', 'yellow', 'red'] ['go', 'get ready', 'stop']\n"
          ]
        }
      ],
      "source": [
        "print(\n",
        "  list(light_signals.keys()),\n",
        "  list(light_signals.values())\n",
        ")"
      ]
    },
    {
      "cell_type": "markdown",
      "id": "0883eb80",
      "metadata": {
        "ExecuteTime": {
          "end_time": "2023-02-16T16:25:21.907981Z",
          "start_time": "2023-02-16T16:25:21.902740Z"
        },
        "id": "0883eb80"
      },
      "source": [
        "3.Напишіть фрагмент коду, що формує список всіх чисел між 1200 і 2700 (обидва включаючи), які діляться на 7 АБО на 5 без остачі. Виведіть результуючий список на екран."
      ]
    },
    {
      "cell_type": "code",
      "execution_count": 15,
      "id": "e4587789",
      "metadata": {
        "id": "e4587789",
        "colab": {
          "base_uri": "https://localhost:8080/"
        },
        "outputId": "9a624890-4423-4c38-8e88-29d6dc34018d"
      },
      "outputs": [
        {
          "output_type": "stream",
          "name": "stdout",
          "text": [
            "[1200, 1204, 1205, 1210, 1211, 1215, 1218, 1220, 1225, 1230, 1232, 1235, 1239, 1240, 1245, 1246, 1250, 1253, 1255, 1260, 1265, 1267, 1270, 1274, 1275, 1280, 1281, 1285, 1288, 1290, 1295, 1300, 1302, 1305, 1309, 1310, 1315, 1316, 1320, 1323, 1325, 1330, 1335, 1337, 1340, 1344, 1345, 1350, 1351, 1355, 1358, 1360, 1365, 1370, 1372, 1375, 1379, 1380, 1385, 1386, 1390, 1393, 1395, 1400, 1405, 1407, 1410, 1414, 1415, 1420, 1421, 1425, 1428, 1430, 1435, 1440, 1442, 1445, 1449, 1450, 1455, 1456, 1460, 1463, 1465, 1470, 1475, 1477, 1480, 1484, 1485, 1490, 1491, 1495, 1498, 1500, 1505, 1510, 1512, 1515, 1519, 1520, 1525, 1526, 1530, 1533, 1535, 1540, 1545, 1547, 1550, 1554, 1555, 1560, 1561, 1565, 1568, 1570, 1575, 1580, 1582, 1585, 1589, 1590, 1595, 1596, 1600, 1603, 1605, 1610, 1615, 1617, 1620, 1624, 1625, 1630, 1631, 1635, 1638, 1640, 1645, 1650, 1652, 1655, 1659, 1660, 1665, 1666, 1670, 1673, 1675, 1680, 1685, 1687, 1690, 1694, 1695, 1700, 1701, 1705, 1708, 1710, 1715, 1720, 1722, 1725, 1729, 1730, 1735, 1736, 1740, 1743, 1745, 1750, 1755, 1757, 1760, 1764, 1765, 1770, 1771, 1775, 1778, 1780, 1785, 1790, 1792, 1795, 1799, 1800, 1805, 1806, 1810, 1813, 1815, 1820, 1825, 1827, 1830, 1834, 1835, 1840, 1841, 1845, 1848, 1850, 1855, 1860, 1862, 1865, 1869, 1870, 1875, 1876, 1880, 1883, 1885, 1890, 1895, 1897, 1900, 1904, 1905, 1910, 1911, 1915, 1918, 1920, 1925, 1930, 1932, 1935, 1939, 1940, 1945, 1946, 1950, 1953, 1955, 1960, 1965, 1967, 1970, 1974, 1975, 1980, 1981, 1985, 1988, 1990, 1995, 2000, 2002, 2005, 2009, 2010, 2015, 2016, 2020, 2023, 2025, 2030, 2035, 2037, 2040, 2044, 2045, 2050, 2051, 2055, 2058, 2060, 2065, 2070, 2072, 2075, 2079, 2080, 2085, 2086, 2090, 2093, 2095, 2100, 2105, 2107, 2110, 2114, 2115, 2120, 2121, 2125, 2128, 2130, 2135, 2140, 2142, 2145, 2149, 2150, 2155, 2156, 2160, 2163, 2165, 2170, 2175, 2177, 2180, 2184, 2185, 2190, 2191, 2195, 2198, 2200, 2205, 2210, 2212, 2215, 2219, 2220, 2225, 2226, 2230, 2233, 2235, 2240, 2245, 2247, 2250, 2254, 2255, 2260, 2261, 2265, 2268, 2270, 2275, 2280, 2282, 2285, 2289, 2290, 2295, 2296, 2300, 2303, 2305, 2310, 2315, 2317, 2320, 2324, 2325, 2330, 2331, 2335, 2338, 2340, 2345, 2350, 2352, 2355, 2359, 2360, 2365, 2366, 2370, 2373, 2375, 2380, 2385, 2387, 2390, 2394, 2395, 2400, 2401, 2405, 2408, 2410, 2415, 2420, 2422, 2425, 2429, 2430, 2435, 2436, 2440, 2443, 2445, 2450, 2455, 2457, 2460, 2464, 2465, 2470, 2471, 2475, 2478, 2480, 2485, 2490, 2492, 2495, 2499, 2500, 2505, 2506, 2510, 2513, 2515, 2520, 2525, 2527, 2530, 2534, 2535, 2540, 2541, 2545, 2548, 2550, 2555, 2560, 2562, 2565, 2569, 2570, 2575, 2576, 2580, 2583, 2585, 2590, 2595, 2597, 2600, 2604, 2605, 2610, 2611, 2615, 2618, 2620, 2625, 2630, 2632, 2635, 2639, 2640, 2645, 2646, 2650, 2653, 2655, 2660, 2665, 2667, 2670, 2674, 2675, 2680, 2681, 2685, 2688, 2690, 2695, 2700]\n"
          ]
        }
      ],
      "source": [
        "list_dev = []\n",
        "for x in range(1200, 2701):\n",
        "  if (x % 7 == 0) or (x % 5 == 0):\n",
        "    list_dev.append(x)\n",
        "print(list_dev)"
      ]
    },
    {
      "cell_type": "markdown",
      "id": "83ec4846",
      "metadata": {
        "ExecuteTime": {
          "end_time": "2023-02-16T16:28:06.826641Z",
          "start_time": "2023-02-16T16:28:06.822293Z"
        },
        "id": "83ec4846"
      },
      "source": [
        "4.Напишіть функцію, яка для заданого цілого числа виводить на екран наступну фігуру. Підказка - тут треба використати вкладені цикли for. Наприклад, для `n=5` фігура матиме наступний вигляд:\n",
        "\n",
        "```\n",
        "*\n",
        "* *\n",
        "* * *\n",
        "* * * *\n",
        "* * * * *\n",
        "* * * *\n",
        "* * *\n",
        "* *\n",
        "*\n",
        "```\n",
        "\n",
        "Запустіть фукнцію для значень n: 3, 5, 10."
      ]
    },
    {
      "cell_type": "code",
      "execution_count": 29,
      "id": "0bd87693",
      "metadata": {
        "id": "0bd87693"
      },
      "outputs": [],
      "source": [
        "def draw_triangle(n):\n",
        "    for i in range(n):\n",
        "        for j in range(i):\n",
        "            print ('* ', end=\"\")\n",
        "        print('')\n",
        "\n",
        "    for i in range(n,0,-1):\n",
        "        for j in range(i):\n",
        "            print('* ', end=\"\")\n",
        "        print('')"
      ]
    },
    {
      "cell_type": "code",
      "source": [
        "for n in [3,5,10]:\n",
        "    draw_triangle(n)"
      ],
      "metadata": {
        "colab": {
          "base_uri": "https://localhost:8080/"
        },
        "id": "v0VbZrT3rAcQ",
        "outputId": "7ffecce7-8cd2-4415-c6cb-5611bbef601a"
      },
      "id": "v0VbZrT3rAcQ",
      "execution_count": 30,
      "outputs": [
        {
          "output_type": "stream",
          "name": "stdout",
          "text": [
            "\n",
            "* \n",
            "* * \n",
            "* * * \n",
            "* * \n",
            "* \n",
            "\n",
            "* \n",
            "* * \n",
            "* * * \n",
            "* * * * \n",
            "* * * * * \n",
            "* * * * \n",
            "* * * \n",
            "* * \n",
            "* \n",
            "\n",
            "* \n",
            "* * \n",
            "* * * \n",
            "* * * * \n",
            "* * * * * \n",
            "* * * * * * \n",
            "* * * * * * * \n",
            "* * * * * * * * \n",
            "* * * * * * * * * \n",
            "* * * * * * * * * * \n",
            "* * * * * * * * * \n",
            "* * * * * * * * \n",
            "* * * * * * * \n",
            "* * * * * * \n",
            "* * * * * \n",
            "* * * * \n",
            "* * * \n",
            "* * \n",
            "* \n"
          ]
        }
      ]
    },
    {
      "cell_type": "markdown",
      "id": "ce6f1afc",
      "metadata": {
        "id": "ce6f1afc"
      },
      "source": [
        "5.Напишіть функцію, яка вертає кількість парних та непарних чисел у наданому масиві. Функція має вертати два числа, а після функції створіть повідомлення, яке прописує, скільки було парних та непарних чисел у масиві.\n",
        "Приклад: для наступного входу\n",
        "```\n",
        "numbers = (1, 2, 11, 12, 13, 22, 27, 29)\n",
        "```\n",
        "Функція має повернути результат: `3, 5`.\n",
        "І далі Вам необхідно сформувати повідомлення, яке виведе наступне, використовуючи результат функції:\n",
        "```\n",
        "Кількість парних чисел : 3\n",
        "Кількість непарних : 5\n",
        "```\n",
        "Запустіть алгоритм функція+друк повідомлення для трьох наведених списків. Найзручніше це зробити, пройшовши по спискам у циклі."
      ]
    },
    {
      "cell_type": "code",
      "execution_count": 31,
      "id": "ca9634e0",
      "metadata": {
        "ExecuteTime": {
          "end_time": "2023-02-16T17:12:55.787310Z",
          "start_time": "2023-02-16T17:12:55.779497Z"
        },
        "id": "ca9634e0"
      },
      "outputs": [],
      "source": [
        "numbers_1 = {1, 2, 11, 12, 13, 22, 27, 29}\n",
        "numbers_2 = {1, 22, 412, 312, 73, 3421}\n",
        "numbers_3 = {12, 11, 94, 722, 0, 452}"
      ]
    },
    {
      "cell_type": "code",
      "execution_count": 32,
      "id": "42c3fd1e",
      "metadata": {
        "id": "42c3fd1e"
      },
      "outputs": [],
      "source": [
        "def count_odd_and_even(numbers):\n",
        "    count_odd = 0\n",
        "    count_even = 0\n",
        "    for x in numbers:\n",
        "        if not x % 2:\n",
        "             count_even+=1\n",
        "        else:\n",
        "             count_odd+=1\n",
        "    return count_even, count_odd"
      ]
    },
    {
      "cell_type": "code",
      "source": [
        "for numbers_list in [numbers_1, numbers_2, numbers_3]:\n",
        "    print(numbers_list)\n",
        "    count_even, count_odd = count_odd_and_even(numbers_list)\n",
        "    print(\"Кількість парних чисел :\",count_even)\n",
        "    print(\"Кількість непарних :\",count_odd)"
      ],
      "metadata": {
        "colab": {
          "base_uri": "https://localhost:8080/"
        },
        "id": "1xI9T7_ru4k-",
        "outputId": "802bc981-e732-449b-c254-d3da81af4eab"
      },
      "id": "1xI9T7_ru4k-",
      "execution_count": 33,
      "outputs": [
        {
          "output_type": "stream",
          "name": "stdout",
          "text": [
            "{1, 2, 11, 12, 13, 22, 27, 29}\n",
            "Кількість парних чисел : 3\n",
            "Кількість непарних : 5\n",
            "{1, 22, 312, 73, 412, 3421}\n",
            "Кількість парних чисел : 3\n",
            "Кількість непарних : 3\n",
            "{0, 722, 452, 11, 12, 94}\n",
            "Кількість парних чисел : 5\n",
            "Кількість непарних : 1\n"
          ]
        }
      ]
    },
    {
      "cell_type": "markdown",
      "id": "dad0c565",
      "metadata": {
        "ExecuteTime": {
          "end_time": "2023-02-16T16:55:03.692657Z",
          "start_time": "2023-02-16T16:55:03.646268Z"
        },
        "id": "dad0c565"
      },
      "source": [
        "6.Напишіть функцію, яка приймає на вхід список з назвами чогось та формує і виводить на екран повідомлення, у якому є всі елементи списку, а перед останнім елементом вставлено слово `and` (приклад - далі). Функція має працювати з будь-якими списками, довжина яких є більшою або рівною 2. Наприклад, для списку\n",
        "```\n",
        "cities = ['Budapest', 'Rome', 'Istanbul', 'Sydney', 'Kyiv']\n",
        "```\n",
        "функція має виводити на екран фразу:\n",
        "```\n",
        "'Budapest, Rome, Istanbul, Sydney and Kyiv'\n",
        "```\n",
        "Запустіть функцію на списках наведених нижче. Для останнього списку має виводитись помилка (exception) або повідомлення про те, що довжина списку має бути як мінімум 2."
      ]
    },
    {
      "cell_type": "code",
      "execution_count": 34,
      "id": "530c7eb0",
      "metadata": {
        "ExecuteTime": {
          "end_time": "2023-02-16T17:04:38.117972Z",
          "start_time": "2023-02-16T17:04:38.112979Z"
        },
        "id": "530c7eb0"
      },
      "outputs": [],
      "source": [
        "list1 = ['Budapest', 'Rome', 'Istanbul', 'Sydney', 'Kyiv']\n",
        "list2 = ['USA', 'UK', 'Ukraine']\n",
        "list3 = ['apples', 'oranges']\n",
        "list4 = ['Titan']"
      ]
    },
    {
      "cell_type": "code",
      "execution_count": 46,
      "id": "e376d538",
      "metadata": {
        "id": "e376d538"
      },
      "outputs": [],
      "source": [
        "def print_list(input_list):\n",
        "    if len(input_list) < 2:\n",
        "       raise Exception('Розмір списку має бути мінімум 2. Введіть новий список та викличте функцію ще раз.')\n",
        "    phrase = input_list[0]\n",
        "    for el in input_list[1:-1]:\n",
        "        phrase+=f', {el}'\n",
        "    phrase+=f' and {input_list[-1]}'\n",
        "    print(phrase)"
      ]
    },
    {
      "cell_type": "code",
      "source": [
        "print_list(list1)\n",
        "print_list(list2)\n",
        "print_list(list3)\n",
        "print_list(list4)"
      ],
      "metadata": {
        "colab": {
          "base_uri": "https://localhost:8080/",
          "height": 343
        },
        "id": "ptehMPJXvjgg",
        "outputId": "f769d292-3215-434b-e511-33b5d38e04b9"
      },
      "id": "ptehMPJXvjgg",
      "execution_count": 47,
      "outputs": [
        {
          "output_type": "stream",
          "name": "stdout",
          "text": [
            "Budapest, Rome, Istanbul, Sydney and Kyiv\n",
            "USA, UK and Ukraine\n",
            "apples and oranges\n"
          ]
        },
        {
          "output_type": "error",
          "ename": "Exception",
          "evalue": "Розмір списку має бути мінімум 2. Введіть новий список та викличте функцію ще раз.",
          "traceback": [
            "\u001b[0;31m---------------------------------------------------------------------------\u001b[0m",
            "\u001b[0;31mException\u001b[0m                                 Traceback (most recent call last)",
            "\u001b[0;32m/tmp/ipython-input-4203107212.py\u001b[0m in \u001b[0;36m<cell line: 0>\u001b[0;34m()\u001b[0m\n\u001b[1;32m      2\u001b[0m \u001b[0mprint_list\u001b[0m\u001b[0;34m(\u001b[0m\u001b[0mlist2\u001b[0m\u001b[0;34m)\u001b[0m\u001b[0;34m\u001b[0m\u001b[0;34m\u001b[0m\u001b[0m\n\u001b[1;32m      3\u001b[0m \u001b[0mprint_list\u001b[0m\u001b[0;34m(\u001b[0m\u001b[0mlist3\u001b[0m\u001b[0;34m)\u001b[0m\u001b[0;34m\u001b[0m\u001b[0;34m\u001b[0m\u001b[0m\n\u001b[0;32m----> 4\u001b[0;31m \u001b[0mprint_list\u001b[0m\u001b[0;34m(\u001b[0m\u001b[0mlist4\u001b[0m\u001b[0;34m)\u001b[0m\u001b[0;34m\u001b[0m\u001b[0;34m\u001b[0m\u001b[0m\n\u001b[0m",
            "\u001b[0;32m/tmp/ipython-input-265748506.py\u001b[0m in \u001b[0;36mprint_list\u001b[0;34m(input_list)\u001b[0m\n\u001b[1;32m      1\u001b[0m \u001b[0;32mdef\u001b[0m \u001b[0mprint_list\u001b[0m\u001b[0;34m(\u001b[0m\u001b[0minput_list\u001b[0m\u001b[0;34m)\u001b[0m\u001b[0;34m:\u001b[0m\u001b[0;34m\u001b[0m\u001b[0;34m\u001b[0m\u001b[0m\n\u001b[1;32m      2\u001b[0m     \u001b[0;32mif\u001b[0m \u001b[0mlen\u001b[0m\u001b[0;34m(\u001b[0m\u001b[0minput_list\u001b[0m\u001b[0;34m)\u001b[0m \u001b[0;34m<\u001b[0m \u001b[0;36m2\u001b[0m\u001b[0;34m:\u001b[0m\u001b[0;34m\u001b[0m\u001b[0;34m\u001b[0m\u001b[0m\n\u001b[0;32m----> 3\u001b[0;31m        \u001b[0;32mraise\u001b[0m \u001b[0mException\u001b[0m\u001b[0;34m(\u001b[0m\u001b[0;34m'Розмір списку має бути мінімум 2. Введіть новий список та викличте функцію ще раз.'\u001b[0m\u001b[0;34m)\u001b[0m\u001b[0;34m\u001b[0m\u001b[0;34m\u001b[0m\u001b[0m\n\u001b[0m\u001b[1;32m      4\u001b[0m     \u001b[0mphrase\u001b[0m \u001b[0;34m=\u001b[0m \u001b[0minput_list\u001b[0m\u001b[0;34m[\u001b[0m\u001b[0;36m0\u001b[0m\u001b[0;34m]\u001b[0m\u001b[0;34m\u001b[0m\u001b[0;34m\u001b[0m\u001b[0m\n\u001b[1;32m      5\u001b[0m     \u001b[0;32mfor\u001b[0m \u001b[0mel\u001b[0m \u001b[0;32min\u001b[0m \u001b[0minput_list\u001b[0m\u001b[0;34m[\u001b[0m\u001b[0;36m1\u001b[0m\u001b[0;34m:\u001b[0m\u001b[0;34m-\u001b[0m\u001b[0;36m1\u001b[0m\u001b[0;34m]\u001b[0m\u001b[0;34m:\u001b[0m\u001b[0;34m\u001b[0m\u001b[0;34m\u001b[0m\u001b[0m\n",
            "\u001b[0;31mException\u001b[0m: Розмір списку має бути мінімум 2. Введіть новий список та викличте функцію ще раз."
          ]
        }
      ]
    },
    {
      "cell_type": "markdown",
      "id": "5093dbef",
      "metadata": {
        "id": "5093dbef"
      },
      "source": [
        "7.Уявіть, що Ви створюєте пригодницьку гру і використовуєте для зберігання предметів гравця словник, у якому ключі - це назви предметів, значення - кількість одиниць кожної із речей. Наприклад, словник може виглядати так: things = {'ключ': 3, 'булава': 1, 'монета': 24, 'ніж': 1, 'горішки': 10, 'бронежелет': 0}. Створіть фукнцію, яка виводить повідомлення про усі речі гравця у такому вигляді:\n",
        "\n",
        "```\n",
        "У гравця є:\n",
        "3 ключ\n",
        "1 булава\n",
        "24 монета\n",
        "1 ніж\n",
        "10 горішки\n",
        "0 бронежелет\n",
        "Загальна кількість речей: 39\n",
        "```\n",
        "\n",
        "Викличіть фукнцію для наступних гравців:"
      ]
    },
    {
      "cell_type": "code",
      "execution_count": 48,
      "id": "f77ec586",
      "metadata": {
        "ExecuteTime": {
          "end_time": "2023-02-16T17:29:01.280430Z",
          "start_time": "2023-02-16T17:29:01.236841Z"
        },
        "id": "f77ec586"
      },
      "outputs": [],
      "source": [
        "player_1 = {'ключ': 3, 'булава': 1, 'монета': 24, 'ніж': 1, 'горішки': 10, 'бронежелет': 0}\n",
        "player_2 = {'ключ': 0, 'булава': 2, 'монета': 4, 'ніж': 3, 'горішки': 4, 'бронежелет': 1}\n",
        "player_3 = {'ключ': 0, 'булава': 0, 'монета': 30, 'ніж': 0, 'горішки': 2, 'бронежелет': 2}"
      ]
    },
    {
      "cell_type": "code",
      "execution_count": 49,
      "id": "94d669f9",
      "metadata": {
        "id": "94d669f9"
      },
      "outputs": [],
      "source": [
        "def count_things(player):\n",
        "    counter = 0\n",
        "    print('У гравця є:')\n",
        "    for thing, number in player.items():\n",
        "        print(f'{number} {thing}')\n",
        "        counter+=number\n",
        "    print(f'Загальна кількість речей: {counter} \\n')"
      ]
    },
    {
      "cell_type": "code",
      "source": [
        "for player in [player_1, player_2, player_3]:\n",
        "    count_things(player)"
      ],
      "metadata": {
        "colab": {
          "base_uri": "https://localhost:8080/"
        },
        "id": "wOLIUTAawneb",
        "outputId": "5eb5334d-40e6-4c2f-d9c7-88b849e47cbf"
      },
      "id": "wOLIUTAawneb",
      "execution_count": 50,
      "outputs": [
        {
          "output_type": "stream",
          "name": "stdout",
          "text": [
            "У гравця є:\n",
            "3 ключ\n",
            "1 булава\n",
            "24 монета\n",
            "1 ніж\n",
            "10 горішки\n",
            "0 бронежелет\n",
            "Загальна кількість речей: 39 \n",
            "\n",
            "У гравця є:\n",
            "0 ключ\n",
            "2 булава\n",
            "4 монета\n",
            "3 ніж\n",
            "4 горішки\n",
            "1 бронежелет\n",
            "Загальна кількість речей: 14 \n",
            "\n",
            "У гравця є:\n",
            "0 ключ\n",
            "0 булава\n",
            "30 монета\n",
            "0 ніж\n",
            "2 горішки\n",
            "2 бронежелет\n",
            "Загальна кількість речей: 34 \n",
            "\n"
          ]
        }
      ]
    },
    {
      "cell_type": "code",
      "source": [],
      "metadata": {
        "id": "i7Sora-1wqrq"
      },
      "id": "i7Sora-1wqrq",
      "execution_count": null,
      "outputs": []
    }
  ],
  "metadata": {
    "kernelspec": {
      "display_name": "Python 3 (ipykernel)",
      "language": "python",
      "name": "python3"
    },
    "language_info": {
      "codemirror_mode": {
        "name": "ipython",
        "version": 3
      },
      "file_extension": ".py",
      "mimetype": "text/x-python",
      "name": "python",
      "nbconvert_exporter": "python",
      "pygments_lexer": "ipython3",
      "version": "3.10.4"
    },
    "toc": {
      "base_numbering": 1,
      "nav_menu": {},
      "number_sections": true,
      "sideBar": true,
      "skip_h1_title": false,
      "title_cell": "Table of Contents",
      "title_sidebar": "Contents",
      "toc_cell": false,
      "toc_position": {},
      "toc_section_display": true,
      "toc_window_display": false
    },
    "colab": {
      "provenance": [],
      "include_colab_link": true
    }
  },
  "nbformat": 4,
  "nbformat_minor": 5
}