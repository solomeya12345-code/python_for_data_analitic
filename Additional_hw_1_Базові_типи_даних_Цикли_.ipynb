{
  "cells": [
    {
      "cell_type": "markdown",
      "metadata": {
        "id": "view-in-github",
        "colab_type": "text"
      },
      "source": [
        "<a href=\"https://colab.research.google.com/github/solomeya12345-code/python_for_data_analitic/blob/main/Additional_hw_1_%D0%91%D0%B0%D0%B7%D0%BE%D0%B2%D1%96_%D1%82%D0%B8%D0%BF%D0%B8_%D0%B4%D0%B0%D0%BD%D0%B8%D1%85_%D0%A6%D0%B8%D0%BA%D0%BB%D0%B8_.ipynb\" target=\"_parent\"><img src=\"https://colab.research.google.com/assets/colab-badge.svg\" alt=\"Open In Colab\"/></a>"
      ]
    },
    {
      "cell_type": "markdown",
      "id": "5b1cae7d",
      "metadata": {
        "id": "5b1cae7d"
      },
      "source": [
        "1.Задане значення у змінній var. Перетворіть значення в змінній var на цілочисельне, запишіть в нову змінну `var_int` та виведіть тип нової змінної `var_int`."
      ]
    },
    {
      "cell_type": "code",
      "execution_count": null,
      "id": "d93f77ed",
      "metadata": {
        "ExecuteTime": {
          "end_time": "2023-06-13T11:52:35.489925Z",
          "start_time": "2023-06-13T11:52:35.487238Z"
        },
        "id": "d93f77ed"
      },
      "outputs": [],
      "source": [
        "var = '1224'"
      ]
    },
    {
      "cell_type": "code",
      "execution_count": null,
      "id": "5a4afe8f",
      "metadata": {
        "id": "5a4afe8f"
      },
      "outputs": [],
      "source": [
        "var_int = int(var)\n",
        "type(var_int)"
      ]
    },
    {
      "cell_type": "markdown",
      "id": "eb3d19d8",
      "metadata": {
        "ExecuteTime": {
          "end_time": "2023-06-13T13:00:19.611699Z",
          "start_time": "2023-06-13T13:00:19.607737Z"
        },
        "id": "eb3d19d8"
      },
      "source": [
        "2.У Вас є список слів. Виведіть кожне третє слово в списку."
      ]
    },
    {
      "cell_type": "code",
      "execution_count": 12,
      "id": "477f4ced",
      "metadata": {
        "ExecuteTime": {
          "end_time": "2023-06-13T13:00:02.052801Z",
          "start_time": "2023-06-13T13:00:02.048798Z"
        },
        "id": "477f4ced"
      },
      "outputs": [],
      "source": [
        "words = [\"apple\", \"banana\", \"cherry\", \"date\", \"elderberry\", \"fig\", \"grape\", \"honeydew\", \"ice cream\", \"jackfruit\", \"kiwi\", \"lemon\", \"mango\", \"nectarine\", \"orange\", \"pineapple\", \"quince\", \"raspberry\", \"strawberry\", \"tangerine\", \"ugli fruit\", \"vanilla\", \"watermelon\", \"xigua\", \"yam\", \"zucchini\"]"
      ]
    },
    {
      "cell_type": "code",
      "execution_count": 13,
      "id": "1b73ca2f",
      "metadata": {
        "id": "1b73ca2f",
        "colab": {
          "base_uri": "https://localhost:8080/"
        },
        "outputId": "cfc0f0ed-9cb4-49ce-edbc-503f18e60c9c"
      },
      "outputs": [
        {
          "output_type": "execute_result",
          "data": {
            "text/plain": [
              "['cherry',\n",
              " 'fig',\n",
              " 'ice cream',\n",
              " 'lemon',\n",
              " 'orange',\n",
              " 'raspberry',\n",
              " 'ugli fruit',\n",
              " 'xigua']"
            ]
          },
          "metadata": {},
          "execution_count": 13
        }
      ],
      "source": [
        "words [2::3]"
      ]
    },
    {
      "cell_type": "markdown",
      "id": "394d1dea",
      "metadata": {
        "id": "394d1dea"
      },
      "source": [
        "3.Скільки всього СЛІВ у списку `words`?"
      ]
    },
    {
      "cell_type": "code",
      "execution_count": 14,
      "id": "83c88182",
      "metadata": {
        "id": "83c88182",
        "colab": {
          "base_uri": "https://localhost:8080/"
        },
        "outputId": "799dd1d6-816a-4ef3-8ee8-20c8cd6167d9"
      },
      "outputs": [
        {
          "output_type": "execute_result",
          "data": {
            "text/plain": [
              "26"
            ]
          },
          "metadata": {},
          "execution_count": 14
        }
      ],
      "source": [
        "len(words)"
      ]
    },
    {
      "cell_type": "markdown",
      "id": "703d1620",
      "metadata": {
        "ExecuteTime": {
          "end_time": "2023-06-13T13:03:17.414285Z",
          "start_time": "2023-06-13T13:03:17.409285Z"
        },
        "id": "703d1620"
      },
      "source": [
        "4.Скільки всього СИМОВЛІВ в усіх словах у списку words? Символи - це і літери і наприклад, пробіли, знаки пукнтуації - `.,!?` і тд. Нас цікавить їх загальна кількість."
      ]
    },
    {
      "cell_type": "code",
      "execution_count": 15,
      "id": "c44d04d9",
      "metadata": {
        "id": "c44d04d9",
        "colab": {
          "base_uri": "https://localhost:8080/"
        },
        "outputId": "f5612bd3-5ed8-499a-ff91-81197f49f337"
      },
      "outputs": [
        {
          "output_type": "execute_result",
          "data": {
            "text/plain": [
              "180"
            ]
          },
          "metadata": {},
          "execution_count": 15
        }
      ],
      "source": [
        "len(\"\".join(words))"
      ]
    },
    {
      "cell_type": "markdown",
      "id": "4c95f6a3",
      "metadata": {
        "id": "4c95f6a3"
      },
      "source": [
        "5.Скільки разів зустрічається кожен символ в усіх словах списку `words`? Відсортуйте символи в результуючому словнику за алфавітним порядком."
      ]
    },
    {
      "cell_type": "code",
      "source": [
        "all_words = ''.join(words)\n",
        "char_count = {}\n",
        "for char in all_words:\n",
        "    if char in char_count:\n",
        "        char_count[char]+=1\n",
        "    else:\n",
        "        char_count[char]=1\n",
        "char_count"
      ],
      "metadata": {
        "colab": {
          "base_uri": "https://localhost:8080/"
        },
        "id": "dAXM0_ZeIuLZ",
        "outputId": "27513e7a-0557-40a4-c7c1-45a346665d11"
      },
      "id": "dAXM0_ZeIuLZ",
      "execution_count": 16,
      "outputs": [
        {
          "output_type": "execute_result",
          "data": {
            "text/plain": [
              "{'a': 20,\n",
              " 'p': 7,\n",
              " 'l': 8,\n",
              " 'e': 24,\n",
              " 'b': 4,\n",
              " 'n': 15,\n",
              " 'c': 8,\n",
              " 'h': 3,\n",
              " 'r': 19,\n",
              " 'y': 6,\n",
              " 'd': 3,\n",
              " 't': 7,\n",
              " 'f': 3,\n",
              " 'i': 15,\n",
              " 'g': 7,\n",
              " 'o': 5,\n",
              " 'w': 4,\n",
              " ' ': 2,\n",
              " 'm': 5,\n",
              " 'j': 1,\n",
              " 'k': 2,\n",
              " 'u': 6,\n",
              " 'q': 1,\n",
              " 's': 2,\n",
              " 'v': 1,\n",
              " 'x': 1,\n",
              " 'z': 1}"
            ]
          },
          "metadata": {},
          "execution_count": 16
        }
      ]
    },
    {
      "cell_type": "code",
      "source": [
        "symbols = \"\".join(words)\n",
        "symbols_count = {}"
      ],
      "metadata": {
        "collapsed": true,
        "id": "K2TwqQAsbKDy"
      },
      "id": "K2TwqQAsbKDy",
      "execution_count": 17,
      "outputs": []
    },
    {
      "cell_type": "code",
      "execution_count": 18,
      "id": "f6cff6cb",
      "metadata": {
        "id": "f6cff6cb",
        "colab": {
          "base_uri": "https://localhost:8080/"
        },
        "outputId": "6872ccc3-882a-4b66-9898-b5c781396abc"
      },
      "outputs": [
        {
          "output_type": "execute_result",
          "data": {
            "text/plain": [
              "{' ': 2,\n",
              " 'a': 20,\n",
              " 'b': 4,\n",
              " 'c': 8,\n",
              " 'd': 3,\n",
              " 'e': 24,\n",
              " 'f': 3,\n",
              " 'g': 7,\n",
              " 'h': 3,\n",
              " 'i': 15,\n",
              " 'j': 1,\n",
              " 'k': 2,\n",
              " 'l': 8,\n",
              " 'm': 5,\n",
              " 'n': 15,\n",
              " 'o': 5,\n",
              " 'p': 7,\n",
              " 'q': 1,\n",
              " 'r': 19,\n",
              " 's': 2,\n",
              " 't': 7,\n",
              " 'u': 6,\n",
              " 'v': 1,\n",
              " 'w': 4,\n",
              " 'x': 1,\n",
              " 'y': 6,\n",
              " 'z': 1}"
            ]
          },
          "metadata": {},
          "execution_count": 18
        }
      ],
      "source": [
        "char_count_sorted = dict(sorted(char_count.items()))\n",
        "char_count_sorted"
      ]
    },
    {
      "cell_type": "code",
      "source": [
        "# з чату гпт, не розумію\n",
        "counts = {}\n",
        "for w in words:\n",
        "    for ch in w:\n",
        "        counts[ch] = counts.get(ch, 0) + 1\n",
        "\n",
        "dicti_words = dict(sorted(counts.items()))\n",
        "\n",
        "print(dicti_words)\n"
      ],
      "metadata": {
        "colab": {
          "base_uri": "https://localhost:8080/"
        },
        "id": "-r1Thn73Vxf1",
        "outputId": "335b2a92-bb5d-4fef-e397-ec9563d72c17"
      },
      "id": "-r1Thn73Vxf1",
      "execution_count": 19,
      "outputs": [
        {
          "output_type": "stream",
          "name": "stdout",
          "text": [
            "{' ': 2, 'a': 20, 'b': 4, 'c': 8, 'd': 3, 'e': 24, 'f': 3, 'g': 7, 'h': 3, 'i': 15, 'j': 1, 'k': 2, 'l': 8, 'm': 5, 'n': 15, 'o': 5, 'p': 7, 'q': 1, 'r': 19, 's': 2, 't': 7, 'u': 6, 'v': 1, 'w': 4, 'x': 1, 'y': 6, 'z': 1}\n"
          ]
        }
      ]
    },
    {
      "cell_type": "markdown",
      "id": "94d9f1cc",
      "metadata": {
        "id": "94d9f1cc"
      },
      "source": [
        "Очікуваний результат:\n",
        "```\n",
        "{' ': 2,\n",
        " 'a': 20,\n",
        " 'b': 4,\n",
        " 'c': 8,\n",
        " 'd': 3,\n",
        " 'e': 24,\n",
        " 'f': 3,\n",
        " 'g': 7,\n",
        " 'h': 3,\n",
        " 'i': 15,\n",
        " 'j': 1,\n",
        " 'k': 2,\n",
        " 'l': 8,\n",
        " 'm': 5,\n",
        " 'n': 15,\n",
        " 'o': 5,\n",
        " 'p': 7,\n",
        " 'q': 1,\n",
        " 'r': 19,\n",
        " 's': 2,\n",
        " 't': 7,\n",
        " 'u': 6,\n",
        " 'v': 1,\n",
        " 'w': 4,\n",
        " 'x': 1,\n",
        " 'y': 6,\n",
        " 'z': 1}\n",
        " ```"
      ]
    },
    {
      "cell_type": "markdown",
      "id": "c93ac384",
      "metadata": {
        "id": "c93ac384"
      },
      "source": [
        "6.Використовуючи результат виконання попереднього завдання, виведіть на екран той символ, який зустрічається найчастіше і скільки разів він зустрічається. Це треба зробити програмно, а не просто подивившись на дані :)"
      ]
    },
    {
      "cell_type": "code",
      "execution_count": 20,
      "id": "9ddfb851",
      "metadata": {
        "id": "9ddfb851"
      },
      "outputs": [],
      "source": [
        "max_letter = None\n",
        "max_count = None\n",
        "for letter, count in char_count_sorted.items():\n",
        "    if max_count is None or count > max_count:\n",
        "        max_count = count\n",
        "        max_letter = letter"
      ]
    },
    {
      "cell_type": "markdown",
      "id": "f40adbed",
      "metadata": {
        "id": "f40adbed"
      },
      "source": [
        "7.Для кожного елементу списку виведіть тип елемену. Якщо тип обʼєкту - int (тільки цей тип безпосередньо!), виведіть результат піднесення цього числа до степеню 5."
      ]
    },
    {
      "cell_type": "code",
      "execution_count": 21,
      "id": "f92249ac",
      "metadata": {
        "ExecuteTime": {
          "end_time": "2023-06-13T12:53:04.365735Z",
          "start_time": "2023-06-13T12:53:04.362441Z"
        },
        "id": "f92249ac"
      },
      "outputs": [],
      "source": [
        "elements = [12, 'type', 'Bob', True, 'False', 1.414, 1444.333, 123/33, 5]"
      ]
    },
    {
      "cell_type": "code",
      "execution_count": 24,
      "id": "96b72186",
      "metadata": {
        "id": "96b72186",
        "colab": {
          "base_uri": "https://localhost:8080/"
        },
        "outputId": "c6a441aa-a988-4397-c262-78223b0f7216"
      },
      "outputs": [
        {
          "output_type": "stream",
          "name": "stdout",
          "text": [
            "The type of 12 is <class 'int'>\n",
            "This is a number! Let't take it to power 5! The result is: 248832\n",
            "The type of type is <class 'str'>\n",
            "The type of Bob is <class 'str'>\n",
            "The type of True is <class 'bool'>\n",
            "The type of False is <class 'str'>\n",
            "The type of 1.414 is <class 'float'>\n",
            "The type of 1444.333 is <class 'float'>\n",
            "The type of 3.727272727272727 is <class 'float'>\n",
            "The type of 5 is <class 'int'>\n",
            "This is a number! Let't take it to power 5! The result is: 3125\n"
          ]
        }
      ],
      "source": [
        "for el in elements:\n",
        "  el_type = type(el)\n",
        "  print(f'The type of {el} is {str(el_type)}')\n",
        "  if isinstance(el, int) and not isinstance(el, bool):\n",
        "    print(\"This is a number! Let't take it to power 5! The result is:\", el**5)\n",
        ""
      ]
    },
    {
      "cell_type": "code",
      "source": [
        "for el in elements:\n",
        "  el_type = type(el)\n",
        "  print(f'The type of {el} is {str(el_type)}')\n",
        "  if type(el) is int:\n",
        "    print(\"The result is:\", el**5)\n",
        ""
      ],
      "metadata": {
        "colab": {
          "base_uri": "https://localhost:8080/"
        },
        "id": "0AxJQtDCZ8rD",
        "outputId": "001b34bf-a3e1-4ee0-e483-bd331d5ba428"
      },
      "id": "0AxJQtDCZ8rD",
      "execution_count": 25,
      "outputs": [
        {
          "output_type": "stream",
          "name": "stdout",
          "text": [
            "The type of 12 is <class 'int'>\n",
            "The result is: 248832\n",
            "The type of type is <class 'str'>\n",
            "The type of Bob is <class 'str'>\n",
            "The type of True is <class 'bool'>\n",
            "The type of False is <class 'str'>\n",
            "The type of 1.414 is <class 'float'>\n",
            "The type of 1444.333 is <class 'float'>\n",
            "The type of 3.727272727272727 is <class 'float'>\n",
            "The type of 5 is <class 'int'>\n",
            "The result is: 3125\n"
          ]
        }
      ]
    },
    {
      "cell_type": "markdown",
      "id": "cf2247c7",
      "metadata": {
        "ExecuteTime": {
          "end_time": "2023-06-13T12:55:17.795510Z",
          "start_time": "2023-06-13T12:55:17.787158Z"
        },
        "id": "cf2247c7"
      },
      "source": [
        "Приклад очікуваного результату (текстові коментарі і форматування можуть бути іншими):\n",
        "```\n",
        "    The type of element 12 is <class 'int'>\n",
        "    This is a number! Let't take it to power 5! The result is: 248832\n",
        "    The type of element type is <class 'str'>\n",
        "    The type of element Bob is <class 'str'>\n",
        "    The type of element True is <class 'bool'>\n",
        "    The type of element False is <class 'str'>\n",
        "    The type of element 1.414 is <class 'float'>\n",
        "    The type of element 1444.333 is <class 'float'>\n",
        "    The type of element 3.727272727272727 is <class 'float'>\n",
        "    The type of element 5 is <class 'int'>\n",
        "    This is a number! Let't take it to power 5! The result is: 3125\n",
        "```"
      ]
    },
    {
      "cell_type": "markdown",
      "id": "76a0bef2",
      "metadata": {
        "id": "76a0bef2"
      },
      "source": [
        "8.Створіть програму, яка:\n",
        "\n",
        "- Для визначених значень `name` та `age` друкує повідомлення \"Привіт, [Ім’я] ! Вам [Вік] років.\".\n",
        "- Обчислює, скільки років залишилося користувачеві до 100 років, і друкує повідомлення з цією інформацією: \"До 100 років Вам лишилось [Число] років.\"  \n",
        "\n",
        "Запустіть програму для набору користувачів нижче."
      ]
    },
    {
      "cell_type": "code",
      "execution_count": 26,
      "id": "0092963a",
      "metadata": {
        "ExecuteTime": {
          "end_time": "2023-06-13T12:30:11.462941Z",
          "start_time": "2023-06-13T12:30:11.459673Z"
        },
        "id": "0092963a"
      },
      "outputs": [],
      "source": [
        "users = [\n",
        "    ['Karl', 30],\n",
        "    ['Klara', 15],\n",
        "    ['Alexis', 56],\n",
        "    ['Charles', 99]\n",
        "]"
      ]
    },
    {
      "cell_type": "code",
      "execution_count": 37,
      "id": "8d6d820e",
      "metadata": {
        "id": "8d6d820e",
        "colab": {
          "base_uri": "https://localhost:8080/"
        },
        "outputId": "d380adbd-4b68-4bab-a61e-bd2bfb5fae3d"
      },
      "outputs": [
        {
          "output_type": "stream",
          "name": "stdout",
          "text": [
            "Привіт, Karl! Вам 30 років.\n",
            "До 100 років Вам залишилось 70\n",
            "Привіт, Klara! Вам 15 років.\n",
            "До 100 років Вам залишилось 85\n",
            "Привіт, Alexis! Вам 56 років.\n",
            "До 100 років Вам залишилось 44\n",
            "Привіт, Charles! Вам 99 років.\n",
            "До 100 років Вам залишилось 1\n"
          ]
        }
      ],
      "source": [
        "dict_users = dict(users)\n",
        "for name, age in dict_users.items():\n",
        "  print(f\"Привіт, {name}! Вам {age} років.\")\n",
        "  print(f\"До 100 років Вам залишилось {100 - age}\")\n"
      ]
    },
    {
      "cell_type": "markdown",
      "id": "45fedbc4",
      "metadata": {
        "id": "45fedbc4"
      },
      "source": [
        "9.Напишть фрагмент коду, який перевіряє, чи слово є паліндромом. Слово (або фраза) є паліндромом, якщо при читанні його зворотньому напрямі буде таке саме слово.\n",
        "Наприклад, слово \"radar\" є паліндромом, але \"radix\" не є паліндромом. Код в кінці має видавати результат True або False.  \n",
        "Код має звертати увагу лише на символи-літери. Регістр літер не має значення, а знаки пунктуації (кома, крапка) та `-+=/\\`` мають бути вилучені з рядка перед перевіркою. Так само, пробіли не впливають на визначення,чи слово є палендромом. Мають значення лише літери.\n",
        "Тобто рядки \"A mam, a\" та \"A mamA\" є паліндромами, а \"AmamU\" - ні.\n",
        "\n",
        "Опціонально ви можете розмістити код на перевірку чи є слово паліндромом у фукнцію.\n",
        "Запустіть свій код для рядків з набору нижче і виведіть результат перевірки на екран для кожного рядка."
      ]
    },
    {
      "cell_type": "code",
      "execution_count": 38,
      "id": "4cca3eed",
      "metadata": {
        "ExecuteTime": {
          "end_time": "2023-06-13T12:24:02.288183Z",
          "start_time": "2023-06-13T12:24:02.285245Z"
        },
        "id": "4cca3eed"
      },
      "outputs": [],
      "source": [
        "phrases_to_check = [\n",
        "    'radar',\n",
        "    'radix',\n",
        "    'A mam, a',\n",
        "    'A mamA',\n",
        "    'Sit on a potato pan Otis',\n",
        "    'Taco cat.',\n",
        "    'Taco cat',\n",
        "    'Tornado',\n",
        "    \"Go hang a salami, I'm a lasagna hog.\"\n",
        "]"
      ]
    },
    {
      "cell_type": "code",
      "execution_count": 44,
      "id": "becbec3c",
      "metadata": {
        "id": "becbec3c",
        "colab": {
          "base_uri": "https://localhost:8080/"
        },
        "outputId": "aea49c2f-68c4-4cf2-e13d-0a99f3fe28f2"
      },
      "outputs": [
        {
          "output_type": "stream",
          "name": "stdout",
          "text": [
            "radar - True\n",
            "radix - False\n",
            "A mam, a - True\n",
            "A mamA - True\n",
            "Sit on a potato pan Otis - True\n",
            "Taco cat. - True\n",
            "Taco cat - True\n",
            "Tornado - False\n",
            "Go hang a salami, I'm a lasagna hog. - True\n"
          ]
        }
      ],
      "source": [
        "def is_palindrome(phrase):\n",
        "  prepared_phrase = phrase.lower()\n",
        "  prepared_phrase = \"\".join(c for c in prepared_phrase if c.isalpha())\n",
        "  return prepared_phrase == prepared_phrase[::-1]\n",
        "\n",
        "for phrase in phrases_to_check:\n",
        "    print(phrase, '-', is_palindrome(phrase))"
      ]
    },
    {
      "cell_type": "markdown",
      "id": "e51c421d",
      "metadata": {
        "id": "e51c421d"
      },
      "source": [
        "Очкувані результати обчислень:\n",
        "```\n",
        "    radar - True\n",
        "    radix - False\n",
        "    A mam, a - True\n",
        "    A mamA - True\n",
        "    Sit on a potato pan Otis - True\n",
        "    Taco cat. - True\n",
        "    Taco cat - True\n",
        "    Tornado - False\n",
        "    Go hang a salami, I'm a lasagna hog. - True\n",
        "```"
      ]
    },
    {
      "cell_type": "code",
      "source": [],
      "metadata": {
        "id": "OI0-eXDYmOdz"
      },
      "id": "OI0-eXDYmOdz",
      "execution_count": null,
      "outputs": []
    }
  ],
  "metadata": {
    "kernelspec": {
      "display_name": "Python 3 (ipykernel)",
      "language": "python",
      "name": "python3"
    },
    "language_info": {
      "codemirror_mode": {
        "name": "ipython",
        "version": 3
      },
      "file_extension": ".py",
      "mimetype": "text/x-python",
      "name": "python",
      "nbconvert_exporter": "python",
      "pygments_lexer": "ipython3",
      "version": "3.10.4"
    },
    "toc": {
      "base_numbering": 1,
      "nav_menu": {},
      "number_sections": true,
      "sideBar": true,
      "skip_h1_title": false,
      "title_cell": "Table of Contents",
      "title_sidebar": "Contents",
      "toc_cell": false,
      "toc_position": {},
      "toc_section_display": true,
      "toc_window_display": false
    },
    "colab": {
      "provenance": [],
      "include_colab_link": true
    }
  },
  "nbformat": 4,
  "nbformat_minor": 5
}